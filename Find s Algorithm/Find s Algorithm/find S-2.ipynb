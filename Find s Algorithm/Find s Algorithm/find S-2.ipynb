{
 "cells": [
  {
   "cell_type": "code",
   "execution_count": 1,
   "metadata": {},
   "outputs": [],
   "source": [
    "import pandas as pd"
   ]
  },
  {
   "cell_type": "code",
   "execution_count": 10,
   "metadata": {},
   "outputs": [
    {
     "name": "stdout",
     "output_type": "stream",
     "text": [
      "     Sky AirTemp Humidity    Wind Water Forecast EnjoySport\n",
      "0  Sunny    Warm   Normal  Strong  Warm     Same        Yes\n",
      "1  Sunny    Warm     High  Strong  Warm     Same        Yes\n",
      "2  Rainy    Cold     High  Strong  Warm   Change         No\n",
      "3  Sunny    Warm     High  Strong  Cold   Change        Yes\n"
     ]
    }
   ],
   "source": [
    "data=pd.read_csv('C:\\Users\\Apoorv Choudhary\\Downloads\\find s _algorithm\\\\data.csv')\n",
    "print(data)"
   ]
  },
  {
   "cell_type": "code",
   "execution_count": 6,
   "metadata": {},
   "outputs": [],
   "source": [
    "columnLength=data.shape[1]\n",
    "h = ['0']*(columnLength-1)\n",
    "hp=[]\n",
    "hn=[]"
   ]
  },
  {
   "cell_type": "code",
   "execution_count": 7,
   "metadata": {},
   "outputs": [],
   "source": [
    "for trainingExample in data.values:\n",
    "    if trainingExample[-1]!='No':\n",
    "        hp.append(list(trainingExample))\n",
    "    else:\n",
    "        hn.append(list(trainingExample))\n",
    "      "
   ]
  },
  {
   "cell_type": "code",
   "execution_count": 8,
   "metadata": {},
   "outputs": [],
   "source": [
    "for i in range (len(hp)):\n",
    "    for j in range(columnLength-1):\n",
    "        if (h[j]=='0'):\n",
    "            h[j]=hp[i][j]\n",
    "        if (h[j]!=hp[i][j]):\n",
    "            h[j]='?'\n",
    "        else:\n",
    "            h[j]=hp[i][j]"
   ]
  },
  {
   "cell_type": "code",
   "execution_count": 9,
   "metadata": {},
   "outputs": [
    {
     "name": "stdout",
     "output_type": "stream",
     "text": [
      "\n",
      "The positive hypotheses are\n",
      "[['Sunny,Wa', 'm,No', 'mal,St', 'ong,Wa', 'm,Same,Yes'], ['Sunny,Wa', 'm,High,St', 'ong,Wa', 'm,Same,Yes', nan], ['Rainy,Cold,High,St', 'ong,Wa', 'm,Change,No', nan, nan], ['Sunny,Wa', 'm,High,St', 'ong,Cold,Change,Yes', nan, nan]]\n",
      "\n",
      "The negative hypotheses are\n",
      "[]\n",
      "\n",
      "The maximally specific  hypotheses h is\n",
      "['?', '?', '?', '?']\n"
     ]
    }
   ],
   "source": [
    "print('\\nThe positive hypotheses are')\n",
    "print(hp)\n",
    "print('\\nThe negative hypotheses are')\n",
    "print(hn)\n",
    "print('\\nThe maximally specific  hypotheses h is')\n",
    "print(h)"
   ]
  },
  {
   "cell_type": "code",
   "execution_count": null,
   "metadata": {},
   "outputs": [],
   "source": []
  }
 ],
 "metadata": {
  "kernelspec": {
   "display_name": "Python 3",
   "language": "python",
   "name": "python3"
  },
  "language_info": {
   "codemirror_mode": {
    "name": "ipython",
    "version": 3
   },
   "file_extension": ".py",
   "mimetype": "text/x-python",
   "name": "python",
   "nbconvert_exporter": "python",
   "pygments_lexer": "ipython3",
   "version": "3.8.3"
  }
 },
 "nbformat": 4,
 "nbformat_minor": 4
}
