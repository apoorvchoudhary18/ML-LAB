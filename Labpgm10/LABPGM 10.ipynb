{
 "cells": [
  {
   "cell_type": "code",
   "execution_count": 1,
   "metadata": {},
   "outputs": [],
   "source": [
    "\n",
    "import numpy as np\n",
    "import matplotlib.pylab as plt\n",
    "from sklego.linear_model import LowessRegression\n"
   ]
  },
  {
   "cell_type": "code",
   "execution_count": 2,
   "metadata": {},
   "outputs": [
    {
     "data": {
      "text/plain": [
       "[<matplotlib.lines.Line2D at 0x1aba3716b38>]"
      ]
     },
     "execution_count": 2,
     "metadata": {},
     "output_type": "execute_result"
    },
    {
     "data": {
      "image/png": "[encoded data removed]",
      "text/plain": [
       "<Figure size 864x288 with 1 Axes>"
      ]
     },
     "metadata": {
      "needs_background": "light"
     },
     "output_type": "display_data"
    }
   ],
   "source": [
    "n=100\n",
    "xs=np.linspace(0,np.pi,n)\n",
    "ys=1+np.sin(xs)+np.cos(xs**2)+np.random.normal(0,0.1,n)\n",
    "\n",
    "mod=LowessRegression(sigma=0.01,span=0.5).fit(xs.reshape(-1,1),ys)\n",
    "\n",
    "xs_new=np.linspace(-1,np.pi+1,n*2)\n",
    "preds=mod.predict(xs_new.reshape(-1,1))\n",
    "\n",
    "plt.figure(figsize=(12,4))\n",
    "plt.scatter(xs,ys)\n",
    "plt.plot(xs_new,preds,color='purple')"
   ]
  },
  {
   "cell_type": "code",
   "execution_count": 1,
   "metadata": {},
   "outputs": [
    {
     "name": "stdout",
     "output_type": "stream",
     "text": [
      "Collecting scikit-lego\n",
      "  Using cached scikit_lego-0.6.3-py2.py3-none-any.whl (212 kB)\n",
      "Requirement already satisfied: pandas>=0.23.4 in c:\\anaconda3\\lib\\site-packages (from scikit-lego) (0.25.3)\n",
      "Requirement already satisfied: scipy>=1.2.0 in c:\\anaconda3\\lib\\site-packages (from scikit-lego) (1.4.1)\n",
      "Processing c:\\users\\user\\appdata\\local\\pip\\cache\\wheels\\ae\\d7\\10\\0b474d56359c3caf8472e626dd0fd2dcc33d7a011f0458ac7d\\umap_learn-0.5.0-py3-none-any.whl\n",
      "Requirement already satisfied: scikit-learn>=0.20.2 in c:\\anaconda3\\lib\\site-packages (from scikit-lego) (0.22.1)\n",
      "Requirement already satisfied: autograd>=1.2 in c:\\anaconda3\\lib\\site-packages (from scikit-lego) (1.3)\n",
      "Collecting Deprecated>=1.2.6\n",
      "  Using cached Deprecated-1.2.10-py2.py3-none-any.whl (8.7 kB)\n",
      "Requirement already satisfied: numpy>=1.16.0 in c:\\anaconda3\\lib\\site-packages (from scikit-lego) (1.18.1)\n",
      "Requirement already satisfied: patsy>=0.5.1 in c:\\anaconda3\\lib\\site-packages (from scikit-lego) (0.5.1)\n",
      "Requirement already satisfied: pytz>=2017.2 in c:\\anaconda3\\lib\\site-packages (from pandas>=0.23.4->scikit-lego) (2019.3)\n",
      "Requirement already satisfied: python-dateutil>=2.6.1 in c:\\users\\user\\appdata\\roaming\\python\\python37\\site-packages (from pandas>=0.23.4->scikit-lego) (2.6.1)\n",
      "Collecting numba>=0.49\n",
      "  Using cached numba-0.52.0-cp37-cp37m-win_amd64.whl (2.3 MB)\n",
      "Processing c:\\users\\user\\appdata\\local\\pip\\cache\\wheels\\e5\\21\\ae\\4860d52fcf914e4fada06cd3dcc917efcc903d26250753f47f\\pynndescent-0.5.1-py3-none-any.whl\n",
      "Requirement already satisfied: joblib>=0.11 in c:\\anaconda3\\lib\\site-packages (from scikit-learn>=0.20.2->scikit-lego) (0.14.1)\n",
      "Requirement already satisfied: future>=0.15.2 in c:\\anaconda3\\lib\\site-packages (from autograd>=1.2->scikit-lego) (0.18.2)\n",
      "Requirement already satisfied: wrapt<2,>=1.10 in c:\\anaconda3\\lib\\site-packages (from Deprecated>=1.2.6->scikit-lego) (1.11.2)\n",
      "Requirement already satisfied: six in c:\\anaconda3\\lib\\site-packages (from patsy>=0.5.1->scikit-lego) (1.14.0)\n",
      "Requirement already satisfied: llvmlite<0.36,>=0.35.0 in c:\\anaconda3\\lib\\site-packages (from numba>=0.49->umap-learn>=0.4.3->scikit-lego) (0.35.0)\n",
      "Requirement already satisfied: setuptools in c:\\anaconda3\\lib\\site-packages (from numba>=0.49->umap-learn>=0.4.3->scikit-lego) (45.1.0.post20200127)\n",
      "Installing collected packages: numba, pynndescent, umap-learn, Deprecated, scikit-lego\n",
      "  Attempting uninstall: numba\n",
      "    Found existing installation: numba 0.41.0\n",
      "    Uninstalling numba-0.41.0:\n",
      "      Successfully uninstalled numba-0.41.0\n",
      "Successfully installed Deprecated-1.2.10 numba-0.52.0 pynndescent-0.5.1 scikit-lego-0.6.3 umap-learn-0.5.0\n",
      "Note: you may need to restart the kernel to use updated packages.\n"
     ]
    }
   ],
   "source": []
  },
  {
   "cell_type": "code",
   "execution_count": 4,
   "metadata": {},
   "outputs": [
    {
     "name": "stdout",
     "output_type": "stream",
     "text": [
      "Collecting llvmlite\n",
      "  Using cached llvmlite-0.35.0-cp37-cp37m-win_amd64.whl (16.0 MB)\n",
      "Installing collected packages: llvmlite\n",
      "Successfully installed llvmlite-0.35.0\n",
      "Note: you may need to restart the kernel to use updated packages.\n"
     ]
    }
   ],
   "source": [
    "pip install --ignore-installed llvmlite\n",
    "pip install scikit-lego"
   ]
  },
  {
   "cell_type": "code",
   "execution_count": null,
   "metadata": {},
   "outputs": [],
   "source": []
  }
 ],
 "metadata": {
  "kernelspec": {
   "display_name": "Python 3",
   "language": "python",
   "name": "python3"
  },
  "language_info": {
   "codemirror_mode": {
    "name": "ipython",
    "version": 3
   },
   "file_extension": ".py",
   "mimetype": "text/x-python",
   "name": "python",
   "nbconvert_exporter": "python",
   "pygments_lexer": "ipython3",
   "version": "3.7.1"
  }
 },
 "nbformat": 4,
 "nbformat_minor": 4
}
